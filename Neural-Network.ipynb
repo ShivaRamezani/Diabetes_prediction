{
 "cells": [
  {
   "cell_type": "code",
   "execution_count": null,
   "metadata": {
    "colab": {
     "base_uri": "https://localhost:8080/"
    },
    "id": "hWUgVBaRgWId",
    "outputId": "75e92fa4-a013-46c1-9396-c81f2e276c65"
   },
   "outputs": [
    {
     "name": "stdout",
     "output_type": "stream",
     "text": [
      "Mounted at /content/gdrive\n"
     ]
    }
   ],
   "source": [
    "import numpy as np\n",
    "import pandas as pd\n",
    "import matplotlib.pyplot as plt\n",
    "from sklearn.preprocessing import MinMaxScaler\n",
    "from sklearn.model_selection import train_test_split\n",
    "from keras.models import Sequential\n",
    "from keras.layers import Conv2D, MaxPooling2D, Flatten, Dense, Dropout, Input\n",
    "from google.colab import drive\n",
    "from sklearn.metrics import classification_report\n",
    "from keras.wrappers.scikit_learn import KerasClassifier\n",
    "from sklearn.model_selection import cross_val_score\n",
    "from sklearn.preprocessing import LabelEncoder\n",
    "from sklearn.model_selection import StratifiedKFold\n",
    "from sklearn.preprocessing import StandardScaler\n",
    "from sklearn.pipeline import Pipeline\n",
    "\n",
    "drive.mount('/content/gdrive')\n",
    "WORKING_DIRECTORY = '/content/gdrive/My Drive/Diabetes/Data/'\n"
   ]
  },
  {
   "cell_type": "code",
   "execution_count": null,
   "metadata": {
    "id": "8lkk_y8xifsZ"
   },
   "outputs": [],
   "source": [
    "def build_model():\n",
    "    model = Sequential([\n",
    "        Dense(128, input_shape=[8], activation=\"relu\"),\n",
    "        Dense(128, activation=\"relu\"),\n",
    "        Dense(1, activation='sigmoid'),\n",
    "    ])\n",
    "    model.compile(optimizer=\"adam\", loss='binary_crossentropy',\n",
    "                  metrics=['accuracy'])\n",
    "    return model\n",
    "\n",
    "\n",
    "data = pd.read_csv(WORKING_DIRECTORY + 'diabetes.csv').values\n",
    "X = data[:, :-1]\n",
    "y = data[:, -1]\n",
    "\n",
    "scaler = MinMaxScaler()\n",
    "X = scaler.fit_transform(X)\n"
   ]
  },
  {
   "cell_type": "code",
   "execution_count": null,
   "metadata": {
    "id": "rw1lmOCaL58R"
   },
   "outputs": [],
   "source": [
    "X_train, X_test, y_train, y_test = train_test_split(X, y, shuffle=False, test_size=0.1)"
   ]
  },
  {
   "cell_type": "code",
   "execution_count": null,
   "metadata": {
    "colab": {
     "base_uri": "https://localhost:8080/"
    },
    "id": "n7D-GiecM8Uz",
    "outputId": "8a9e414e-c8df-4181-9455-0f1c0379d99c"
   },
   "outputs": [
    {
     "name": "stdout",
     "output_type": "stream",
     "text": [
      "Epoch 1/50\n",
      "20/20 [==============================] - 0s 13ms/step - loss: 0.6620 - accuracy: 0.6329 - val_loss: 0.6174 - val_accuracy: 0.7000\n",
      "Epoch 2/50\n",
      "20/20 [==============================] - 0s 4ms/step - loss: 0.6321 - accuracy: 0.6506 - val_loss: 0.5930 - val_accuracy: 0.6857\n",
      "Epoch 3/50\n",
      "20/20 [==============================] - 0s 4ms/step - loss: 0.6032 - accuracy: 0.6892 - val_loss: 0.5661 - val_accuracy: 0.6714\n",
      "Epoch 4/50\n",
      "20/20 [==============================] - 0s 4ms/step - loss: 0.5873 - accuracy: 0.6973 - val_loss: 0.5471 - val_accuracy: 0.6571\n",
      "Epoch 5/50\n",
      "20/20 [==============================] - 0s 4ms/step - loss: 0.5627 - accuracy: 0.7166 - val_loss: 0.5525 - val_accuracy: 0.7286\n",
      "Epoch 6/50\n",
      "20/20 [==============================] - 0s 4ms/step - loss: 0.5549 - accuracy: 0.7101 - val_loss: 0.5330 - val_accuracy: 0.7429\n",
      "Epoch 7/50\n",
      "20/20 [==============================] - 0s 5ms/step - loss: 0.5395 - accuracy: 0.7214 - val_loss: 0.5100 - val_accuracy: 0.7143\n",
      "Epoch 8/50\n",
      "20/20 [==============================] - 0s 4ms/step - loss: 0.5181 - accuracy: 0.7520 - val_loss: 0.4980 - val_accuracy: 0.7143\n",
      "Epoch 9/50\n",
      "20/20 [==============================] - 0s 4ms/step - loss: 0.5053 - accuracy: 0.7520 - val_loss: 0.4894 - val_accuracy: 0.7429\n",
      "Epoch 10/50\n",
      "20/20 [==============================] - 0s 4ms/step - loss: 0.4920 - accuracy: 0.7633 - val_loss: 0.5212 - val_accuracy: 0.8000\n",
      "Epoch 11/50\n",
      "20/20 [==============================] - 0s 4ms/step - loss: 0.4845 - accuracy: 0.7746 - val_loss: 0.4725 - val_accuracy: 0.7286\n",
      "Epoch 12/50\n",
      "20/20 [==============================] - 0s 4ms/step - loss: 0.4732 - accuracy: 0.7762 - val_loss: 0.4655 - val_accuracy: 0.7714\n",
      "Epoch 13/50\n",
      "20/20 [==============================] - 0s 4ms/step - loss: 0.4628 - accuracy: 0.7794 - val_loss: 0.4694 - val_accuracy: 0.7429\n",
      "Epoch 14/50\n",
      "20/20 [==============================] - 0s 4ms/step - loss: 0.4600 - accuracy: 0.7794 - val_loss: 0.4650 - val_accuracy: 0.7571\n",
      "Epoch 15/50\n",
      "20/20 [==============================] - 0s 4ms/step - loss: 0.4534 - accuracy: 0.7907 - val_loss: 0.4630 - val_accuracy: 0.7429\n",
      "Epoch 16/50\n",
      "20/20 [==============================] - 0s 4ms/step - loss: 0.4492 - accuracy: 0.7858 - val_loss: 0.4642 - val_accuracy: 0.7429\n",
      "Epoch 17/50\n",
      "20/20 [==============================] - 0s 4ms/step - loss: 0.4469 - accuracy: 0.7955 - val_loss: 0.4648 - val_accuracy: 0.7429\n",
      "Epoch 18/50\n",
      "20/20 [==============================] - 0s 5ms/step - loss: 0.4489 - accuracy: 0.7778 - val_loss: 0.4761 - val_accuracy: 0.7714\n",
      "Epoch 19/50\n",
      "20/20 [==============================] - 0s 4ms/step - loss: 0.4456 - accuracy: 0.7923 - val_loss: 0.4553 - val_accuracy: 0.7571\n",
      "Epoch 20/50\n",
      "20/20 [==============================] - 0s 4ms/step - loss: 0.4402 - accuracy: 0.7939 - val_loss: 0.4688 - val_accuracy: 0.7571\n",
      "Epoch 21/50\n",
      "20/20 [==============================] - 0s 4ms/step - loss: 0.4442 - accuracy: 0.7955 - val_loss: 0.4717 - val_accuracy: 0.7429\n",
      "Epoch 22/50\n",
      "20/20 [==============================] - 0s 4ms/step - loss: 0.4522 - accuracy: 0.8035 - val_loss: 0.4592 - val_accuracy: 0.7571\n",
      "Epoch 23/50\n",
      "20/20 [==============================] - 0s 4ms/step - loss: 0.4546 - accuracy: 0.7842 - val_loss: 0.4881 - val_accuracy: 0.7571\n",
      "Epoch 24/50\n",
      "20/20 [==============================] - 0s 4ms/step - loss: 0.4532 - accuracy: 0.7874 - val_loss: 0.4611 - val_accuracy: 0.7429\n",
      "Epoch 25/50\n",
      "20/20 [==============================] - 0s 4ms/step - loss: 0.4283 - accuracy: 0.7923 - val_loss: 0.4617 - val_accuracy: 0.7429\n",
      "Epoch 26/50\n",
      "20/20 [==============================] - 0s 4ms/step - loss: 0.4290 - accuracy: 0.8003 - val_loss: 0.4723 - val_accuracy: 0.7429\n",
      "Epoch 27/50\n",
      "20/20 [==============================] - 0s 4ms/step - loss: 0.4397 - accuracy: 0.7987 - val_loss: 0.4606 - val_accuracy: 0.7429\n",
      "Epoch 28/50\n",
      "20/20 [==============================] - 0s 5ms/step - loss: 0.4230 - accuracy: 0.8003 - val_loss: 0.4619 - val_accuracy: 0.7429\n",
      "Epoch 29/50\n",
      "20/20 [==============================] - 0s 4ms/step - loss: 0.4221 - accuracy: 0.7955 - val_loss: 0.4683 - val_accuracy: 0.7286\n",
      "Epoch 30/50\n",
      "20/20 [==============================] - 0s 6ms/step - loss: 0.4257 - accuracy: 0.8116 - val_loss: 0.4649 - val_accuracy: 0.7286\n",
      "Epoch 31/50\n",
      "20/20 [==============================] - 0s 5ms/step - loss: 0.4185 - accuracy: 0.7971 - val_loss: 0.4648 - val_accuracy: 0.7429\n",
      "Epoch 32/50\n",
      "20/20 [==============================] - 0s 5ms/step - loss: 0.4300 - accuracy: 0.7842 - val_loss: 0.4602 - val_accuracy: 0.7286\n",
      "Epoch 33/50\n",
      "20/20 [==============================] - 0s 6ms/step - loss: 0.4255 - accuracy: 0.8132 - val_loss: 0.4788 - val_accuracy: 0.7857\n",
      "Epoch 34/50\n",
      "20/20 [==============================] - 0s 6ms/step - loss: 0.4192 - accuracy: 0.7939 - val_loss: 0.4647 - val_accuracy: 0.7571\n",
      "Epoch 35/50\n",
      "20/20 [==============================] - 0s 7ms/step - loss: 0.4142 - accuracy: 0.7955 - val_loss: 0.4675 - val_accuracy: 0.7429\n",
      "Epoch 36/50\n",
      "20/20 [==============================] - 0s 6ms/step - loss: 0.4137 - accuracy: 0.8132 - val_loss: 0.4663 - val_accuracy: 0.7286\n",
      "Epoch 37/50\n",
      "20/20 [==============================] - 0s 5ms/step - loss: 0.4100 - accuracy: 0.8003 - val_loss: 0.4900 - val_accuracy: 0.7714\n",
      "Epoch 38/50\n",
      "20/20 [==============================] - 0s 7ms/step - loss: 0.4146 - accuracy: 0.7971 - val_loss: 0.4775 - val_accuracy: 0.7714\n",
      "Epoch 39/50\n",
      "20/20 [==============================] - 0s 6ms/step - loss: 0.4134 - accuracy: 0.8100 - val_loss: 0.4701 - val_accuracy: 0.7429\n",
      "Epoch 40/50\n",
      "20/20 [==============================] - 0s 6ms/step - loss: 0.4076 - accuracy: 0.7987 - val_loss: 0.4679 - val_accuracy: 0.7429\n",
      "Epoch 41/50\n",
      "20/20 [==============================] - 0s 6ms/step - loss: 0.4054 - accuracy: 0.8100 - val_loss: 0.4741 - val_accuracy: 0.7714\n",
      "Epoch 42/50\n",
      "20/20 [==============================] - 0s 7ms/step - loss: 0.4111 - accuracy: 0.8003 - val_loss: 0.4736 - val_accuracy: 0.7714\n",
      "Epoch 43/50\n",
      "20/20 [==============================] - 0s 7ms/step - loss: 0.4144 - accuracy: 0.8019 - val_loss: 0.4658 - val_accuracy: 0.7429\n",
      "Epoch 44/50\n",
      "20/20 [==============================] - 0s 7ms/step - loss: 0.4072 - accuracy: 0.7987 - val_loss: 0.4741 - val_accuracy: 0.7714\n",
      "Epoch 45/50\n",
      "20/20 [==============================] - 0s 5ms/step - loss: 0.4000 - accuracy: 0.8116 - val_loss: 0.4841 - val_accuracy: 0.7714\n",
      "Epoch 46/50\n",
      "20/20 [==============================] - 0s 7ms/step - loss: 0.4104 - accuracy: 0.8084 - val_loss: 0.4695 - val_accuracy: 0.7429\n",
      "Epoch 47/50\n",
      "20/20 [==============================] - 0s 6ms/step - loss: 0.4062 - accuracy: 0.8035 - val_loss: 0.4683 - val_accuracy: 0.7429\n",
      "Epoch 48/50\n",
      "20/20 [==============================] - 0s 6ms/step - loss: 0.4136 - accuracy: 0.8052 - val_loss: 0.4716 - val_accuracy: 0.7429\n",
      "Epoch 49/50\n",
      "20/20 [==============================] - 0s 7ms/step - loss: 0.3997 - accuracy: 0.8164 - val_loss: 0.4687 - val_accuracy: 0.7000\n",
      "Epoch 50/50\n",
      "20/20 [==============================] - 0s 7ms/step - loss: 0.4076 - accuracy: 0.8132 - val_loss: 0.4781 - val_accuracy: 0.7429\n"
     ]
    },
    {
     "data": {
      "text/plain": [
       "<tensorflow.python.keras.callbacks.History at 0x7feb40504cd0>"
      ]
     },
     "execution_count": 4,
     "metadata": {},
     "output_type": "execute_result"
    }
   ],
   "source": [
    "model = build_model()\n",
    "model.fit(X_train, y_train, batch_size=32, epochs=50, validation_split=0.1)"
   ]
  },
  {
   "cell_type": "code",
   "execution_count": null,
   "metadata": {
    "colab": {
     "base_uri": "https://localhost:8080/"
    },
    "id": "uWEx_k5QNoNk",
    "outputId": "545d2587-6d0a-47b0-97e0-c2f72745e8de"
   },
   "outputs": [
    {
     "name": "stdout",
     "output_type": "stream",
     "text": [
      "              precision    recall  f1-score   support\n",
      "\n",
      "         0.0       0.83      0.85      0.84        46\n",
      "         1.0       0.77      0.74      0.75        31\n",
      "\n",
      "    accuracy                           0.81        77\n",
      "   macro avg       0.80      0.79      0.80        77\n",
      "weighted avg       0.80      0.81      0.80        77\n",
      "\n"
     ]
    }
   ],
   "source": [
    "y_pred = model.predict_classes(X_test)\n",
    "print(classification_report(y_test, y_pred))"
   ]
  },
  {
   "cell_type": "code",
   "execution_count": null,
   "metadata": {
    "colab": {
     "base_uri": "https://localhost:8080/"
    },
    "id": "6PlWsGbYO3E6",
    "outputId": "252a5d6e-ea1e-4def-875d-1ccf1019a73a"
   },
   "outputs": [
    {
     "name": "stdout",
     "output_type": "stream",
     "text": [
      "78.39541912078857\n"
     ]
    }
   ],
   "source": [
    "estimator = KerasClassifier(build_fn=build_model, epochs=50, batch_size=32, verbose=0)\n",
    "kfold = StratifiedKFold(n_splits=10, shuffle=True)\n",
    "results = cross_val_score(estimator, X, y, cv=kfold)\n",
    "print(results.mean()*100)"
   ]
  }
 ],
 "metadata": {
  "colab": {
   "collapsed_sections": [],
   "name": "D.ipynb",
   "provenance": []
  },
  "kernelspec": {
   "display_name": "Python 3",
   "language": "python",
   "name": "python3"
  },
  "language_info": {
   "codemirror_mode": {
    "name": "ipython",
    "version": 3
   },
   "file_extension": ".py",
   "mimetype": "text/x-python",
   "name": "python",
   "nbconvert_exporter": "python",
   "pygments_lexer": "ipython3",
   "version": "3.8.3"
  }
 },
 "nbformat": 4,
 "nbformat_minor": 1
}
